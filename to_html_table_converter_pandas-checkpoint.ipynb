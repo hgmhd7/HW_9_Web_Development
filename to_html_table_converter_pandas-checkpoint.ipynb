{
 "cells": [
  {
   "cell_type": "code",
   "execution_count": 3,
   "metadata": {},
   "outputs": [],
   "source": [
    "import pandas as pd  "
   ]
  },
  {
   "cell_type": "code",
   "execution_count": 14,
   "metadata": {},
   "outputs": [],
   "source": [
    "# Files to Load \n",
    "city_data_web = \"city_data_web.csv\"\n",
    "ride_data_web = \"ride_data_web.csv\"\n",
    "city_api_data_web = \"cities_api_web.csv\"\n",
    "purchase_data_web = \"purchase_data_house_game_web.csv\"\n",
    "\n",
    "\n",
    "\n",
    "# Read the City and Ride Data\n",
    "city_data_web_df = pd.read_csv(city_data_web)\n",
    "ride_data_web_df = pd.read_csv(ride_data_web)\n",
    "city_api_data_web_df = pd.read_csv(city_api_data_web)\n",
    "purchase_data_web_df = pd.read_csv(purchase_data_web)\n"
   ]
  },
  {
   "cell_type": "code",
   "execution_count": 19,
   "metadata": {},
   "outputs": [],
   "source": [
    "city_api_data_web_df.to_html('city_api_table.html')\n",
    "ride_data_web_df.to_html('ride_data_table.html')\n",
    "city_data_web_df.to_html('city_data_table.html')\n",
    "purchase_data_web_df.to_html('purchase_data_table.html')\n",
    "\n"
   ]
  },
  {
   "cell_type": "code",
   "execution_count": null,
   "metadata": {},
   "outputs": [],
   "source": []
  },
  {
   "cell_type": "code",
   "execution_count": null,
   "metadata": {},
   "outputs": [],
   "source": []
  },
  {
   "cell_type": "code",
   "execution_count": null,
   "metadata": {},
   "outputs": [],
   "source": []
  },
  {
   "cell_type": "code",
   "execution_count": null,
   "metadata": {},
   "outputs": [],
   "source": []
  },
  {
   "cell_type": "code",
   "execution_count": null,
   "metadata": {},
   "outputs": [],
   "source": []
  }
 ],
 "metadata": {
  "kernelspec": {
   "display_name": "Python [conda env:PythonData] *",
   "language": "python",
   "name": "conda-env-PythonData-py"
  },
  "language_info": {
   "codemirror_mode": {
    "name": "ipython",
    "version": 3
   },
   "file_extension": ".py",
   "mimetype": "text/x-python",
   "name": "python",
   "nbconvert_exporter": "python",
   "pygments_lexer": "ipython3",
   "version": "3.6.8"
  }
 },
 "nbformat": 4,
 "nbformat_minor": 2
}
